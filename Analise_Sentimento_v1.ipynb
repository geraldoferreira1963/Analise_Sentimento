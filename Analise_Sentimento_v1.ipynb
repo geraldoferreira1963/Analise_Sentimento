{
  "cells": [
    {
      "cell_type": "markdown",
      "metadata": {
        "id": "view-in-github",
        "colab_type": "text"
      },
      "source": [
        "<a href=\"https://colab.research.google.com/github/geraldoferreira1963/Analise_Sentimento/blob/main/Analise_Sentimento_v1.ipynb\" target=\"_parent\"><img src=\"https://colab.research.google.com/assets/colab-badge.svg\" alt=\"Open In Colab\"/></a>"
      ]
    },
    {
      "cell_type": "markdown",
      "metadata": {
        "id": "hgdGbPue-hKS"
      },
      "source": [
        "O objetivo do trabalho é utilizando um dataset (https://www.kaggle.com/datasets/deepakjoshi2k/yahoo-stock-prediction-by-news) predizer se ação de uma dada empresa - no final de dia de negociação - subirá ou descera (tomando como base o dia anterior).\n",
        "\n",
        "\n",
        "Este algoritmo, juntamente com outros algoritmos ou metodologias, por exemplo Análise Gráfica, poderiam ser combinados a fim de se criar um ferramenta de suporte a operação de compra e venda de ativos em um único dia na bolsa de valores.\n",
        "\n",
        "\n",
        "No treinamento do algoritmo foi utilizado o dataset https://www.kaggle.com/datasets/deepakjoshi2k/yahoo-stock-prediction-by-news, o qual possui as seguintes colunas :   \n",
        "\n",
        "(i)     **ticker** : código da ação na Bolsa de Valores de New York\n",
        "(ii)    **Date** : Data da notícia ou opinião\n",
        "(iii)   **Category** : se é uma notícia, ou uma opinião de um analista.\n",
        "(iv)    **title** : título da notícia, ou do artigo\n",
        "(v)     **content** : conteúdo da notícia, ou do artigo\n",
        "(vi)    **Open** : valor de abertura da ação\n",
        "(vii)   **High** : valor de fechamento da ação\n",
        "(viii)  **Low** : menor valor da ação no dia\n",
        "(ix)    **Close** : valor de fechamento do preço da ação\n",
        "(x)     **Adj cloe** : Ajusted Closing Price, ajuste no preço da ação decorrente de algum evento na base acionária da empresa\n",
        "(xi)    **Volume** : volume de ações negociadas no dia\n",
        "(xii) **label** : indicação se o preço da ação fechou com um valor maior que o preço **inicial** (1), ou fechou em um valor menor (0)\n",
        "\n",
        "\n",
        "\n"
      ]
    },
    {
      "cell_type": "markdown",
      "metadata": {
        "id": "xuvFmcyenXNO"
      },
      "source": []
    },
    {
      "cell_type": "code",
      "execution_count": 38,
      "metadata": {
        "colab": {
          "base_uri": "https://localhost:8080/"
        },
        "id": "oRZ0qCsAOPhF",
        "outputId": "7d7bf35e-d0ee-4816-ffea-7a67abb2afb3"
      },
      "outputs": [
        {
          "output_type": "stream",
          "name": "stderr",
          "text": [
            "[nltk_data] Downloading package punkt to /root/nltk_data...\n",
            "[nltk_data]   Package punkt is already up-to-date!\n",
            "[nltk_data] Downloading package stopwords to /root/nltk_data...\n",
            "[nltk_data]   Package stopwords is already up-to-date!\n",
            "[nltk_data] Downloading package wordnet to /root/nltk_data...\n",
            "[nltk_data]   Package wordnet is already up-to-date!\n",
            "[nltk_data] Downloading package omw-1.4 to /root/nltk_data...\n",
            "[nltk_data]   Package omw-1.4 is already up-to-date!\n",
            "[nltk_data] Downloading package punkt_tab to /root/nltk_data...\n",
            "[nltk_data]   Package punkt_tab is already up-to-date!\n"
          ]
        }
      ],
      "source": [
        "!pip install scikit-learn -q\n",
        "!pip install transformers -q\n",
        "\n",
        "\n",
        "\n",
        "import requests\n",
        "import numpy as np\n",
        "import pandas as pd\n",
        "import matplotlib.pyplot as plt\n",
        "import seaborn as sns\n",
        "import nltk\n",
        "import string\n",
        "import time\n",
        "import pickle\n",
        "import warnings\n",
        "\n",
        "\n",
        "\n",
        "from sklearn.exceptions import DataConversionWarning\n",
        "from sklearn.model_selection import train_test_split\n",
        "from tensorflow.keras.layers import TextVectorization\n",
        "from sklearn.preprocessing import LabelEncoder  # Import LabelEncoder\n",
        "from sklearn.model_selection import train_test_split,GridSearchCV\n",
        "from sklearn.feature_extraction.text import TfidfVectorizer\n",
        "from sklearn.linear_model import LogisticRegression\n",
        "from sklearn.svm import SVC\n",
        "from sklearn.metrics import accuracy_score, classification_report\n",
        "from sklearn.preprocessing import LabelEncoder\n",
        "from nltk.corpus import stopwords\n",
        "from nltk.stem import WordNetLemmatizer\n",
        "from sklearn.pipeline import Pipeline\n",
        "from sklearn.compose import ColumnTransformer\n",
        "from sklearn.pipeline import Pipeline\n",
        "from IPython import get_ipython\n",
        "from IPython.display import display,HTML\n",
        "from sklearn.metrics import confusion_matrix\n",
        "from sklearn.preprocessing import FunctionTransformer\n",
        "from sklearn.model_selection import train_test_split\n",
        "from sklearn.metrics import accuracy_score, classification_report\n",
        "from transformers import BertTokenizer, TFBertModel\n",
        "from sklearn.exceptions import ConvergenceWarning\n",
        "\n",
        "nltk.download('punkt')\n",
        "nltk.download('stopwords')\n",
        "nltk.download('wordnet')\n",
        "nltk.download('omw-1.4')\n",
        "nltk.download('punkt_tab')\n",
        "\n",
        "warnings.filterwarnings(\"ignore\", category=DataConversionWarning)"
      ]
    },
    {
      "cell_type": "markdown",
      "metadata": {
        "id": "lFrBnEc0BEJQ"
      },
      "source": [
        "As funções abaixo foram criadas.\n",
        "\n",
        "(1) dataframe_analize : objetivo é realizar uma simples\n",
        "(2) b"
      ]
    },
    {
      "cell_type": "code",
      "execution_count": 2,
      "metadata": {
        "id": "JHfnZNoZjrt8"
      },
      "outputs": [],
      "source": [
        "def analisar_dataframe (df, column_name='title'):  # Add column_name parameter with default 'title'\n",
        "    \"\"\"Analyzes a DataFrame and prints statistics about labels, content, and category.\n",
        "\n",
        "    Args:\n",
        "        df: The DataFrame to analyze.\n",
        "        column_name: The column to use for content analysis ('title' or 'content').\n",
        "    \"\"\"\n",
        "\n",
        "    # Count and print label occurrences\n",
        "    label_counts = df['label'].value_counts()\n",
        "    print(\"Número de Linhas com Label 0:\", label_counts[0])\n",
        "    print(\"Número de Linhas com Label 1:\", label_counts[1])\n",
        "\n",
        "    # Plot label distribution\n",
        "    label_counts.plot(kind='bar', title='Distribuição dos Labels')\n",
        "    plt.xlabel('Label')\n",
        "    plt.ylabel('Contagem')\n",
        "    plt.show()\n",
        "\n",
        "    # Calculate and print content length statistics\n",
        "    df['text_length'] = df[column_name].apply(len)  # Use column_name instead of 'title'\n",
        "    print(\"Minimo comprimento do conteúdo:\", df['text_length'].min())  # Use 'text_length'\n",
        "    print(\"Máximo comprimento do conteúdo:\", df['text_length'].max())  # Use 'text_length'\n",
        "\n",
        "    # Calculate and print the number of unique words\n",
        "    all_words = ' '.join(df[column_name]).lower().split()  # Use column_name instead of 'title'\n",
        "    unique_words = set(all_words)\n",
        "    print(\"Numero de palavras únicas:\", len(unique_words))\n",
        "\n",
        "    # Combined category-label plot\n",
        "    plt.figure(figsize=(12, 6))\n",
        "    sns.countplot(x='category', hue='label', data=df)\n",
        "    plt.title('Distribuição das Categorias/Label')\n",
        "    plt.xlabel('Categoria')\n",
        "    plt.ylabel('Contagem')\n",
        "    plt.xticks(rotation=45, ha='right')\n",
        "    plt.show()\n",
        "    return(len(unique_words),df['text_length'].min(),df['text_length'].max())"
      ]
    },
    {
      "cell_type": "code",
      "execution_count": 3,
      "metadata": {
        "id": "kQaV_kQGrgcA"
      },
      "outputs": [],
      "source": [
        "def criar_dataframe_balanceado(df, num_instances):\n",
        "  \"\"\"Creates a balanced DataFrame with a specified number of instances for each label.\n",
        "\n",
        "  Args:\n",
        "    df: The original DataFrame.\n",
        "    num_instances: The desired number of instances for each label.\n",
        "\n",
        "  Returns:\n",
        "    A new DataFrame with balanced labels.\n",
        "  \"\"\"\n",
        "\n",
        "  # Separate instances with label 0 and label 1\n",
        "  label_0_df = df[df['label'] == 0]\n",
        "  label_1_df = df[df['label'] == 1]\n",
        "\n",
        "  # Sample the desired number of instances from each label\n",
        "  balanced_label_0_df = label_0_df.sample(n=num_instances, random_state=42)  # Use random_state for reproducibility\n",
        "  balanced_label_1_df = label_1_df.sample(n=num_instances, random_state=42)\n",
        "\n",
        "  # Concatenate the balanced DataFrames\n",
        "  balanced_df = pd.concat([balanced_label_0_df, balanced_label_1_df])\n",
        "\n",
        "  return balanced_df"
      ]
    },
    {
      "cell_type": "code",
      "execution_count": 4,
      "metadata": {
        "id": "GH3efbmfs-sx"
      },
      "outputs": [],
      "source": [
        "def preprocess_text(text, lemmatize=True):\n",
        "    \"\"\"Removes stop words, punctuation, and optionally performs lemmatization.\n",
        "\n",
        "    Args:\n",
        "        text: The input text string.\n",
        "        lemmatize: A boolean indicating whether to perform lemmatization.\n",
        "\n",
        "    Returns:\n",
        "        The preprocessed text string.\n",
        "    \"\"\"\n",
        "\n",
        "    # Tokenize the text\n",
        "    tokens = nltk.word_tokenize(text.lower())\n",
        "\n",
        "    # Remove punctuation\n",
        "    tokens = [token for token in tokens if token not in string.punctuation]\n",
        "\n",
        "    # Remove stop words\n",
        "    stop_words = set(stopwords.words('english'))\n",
        "    tokens = [token for token in tokens if token not in stop_words]\n",
        "\n",
        "    # Lemmatize if specified\n",
        "    if lemmatize:\n",
        "        lemmatizer = WordNetLemmatizer()\n",
        "        tokens = [lemmatizer.lemmatize(token) for token in tokens]\n",
        "\n",
        "    # Join the tokens back into a string\n",
        "    preprocessed_text = ' '.join(tokens)\n",
        "\n",
        "    return preprocessed_text"
      ]
    },
    {
      "cell_type": "code",
      "execution_count": 36,
      "metadata": {
        "id": "IbT8NIurDaGv"
      },
      "outputs": [],
      "source": [
        "def treino (pipeline_name, pipeline, param_grid, X_train, y_train):\n",
        "    \"\"\"\n",
        "    Trains a pipeline using GridSearchCV and measures the training time.\n",
        "\n",
        "    Args:\n",
        "        pipeline_name (str): The name of the pipeline (e.g., 'Logistic Regression').\n",
        "        pipeline: The pipeline object to be trained.\n",
        "        param_grid (dict): The parameter grid for GridSearchCV.\n",
        "        X_train: The training data.\n",
        "        y_train: The training labels.\n",
        "\n",
        "    Returns:\n",
        "        float: The training time in seconds.\n",
        "    \"\"\"\n",
        "    grid_search = GridSearchCV(pipeline, param_grid, cv=5, scoring='accuracy', verbose=1)\n",
        "    start_time = time.time()\n",
        "    with warnings.catch_warnings():\n",
        "        warnings.filterwarnings(\"ignore\", category=ConvergenceWarning)\n",
        "        grid_search.fit(X_train, y_train)\n",
        "    end_time = time.time()\n",
        "    training_time = end_time - start_time\n",
        "    print(f\"{pipeline_name} training time: {training_time:.2f} seconds\")\n",
        "    return training_time, grid_search.best_estimator_, grid_search\n"
      ]
    },
    {
      "source": [
        "def plot_acuracia_por_max_features(logreg_grid_search_results, svm_grid_search_results):\n",
        "    \"\"\"Plots accuracy against the number of features/tokens for Logistic Regression and SVM.\n",
        "\n",
        "    Args:\n",
        "        logreg_grid_search_results: The cv_results_ attribute of the Logistic Regression GridSearchCV object.\n",
        "        svm_grid_search_results: The cv_results_ attribute of the SVM GridSearchCV object.\n",
        "    \"\"\"\n",
        "    logreg_results = pd.DataFrame(logreg_grid_search_results.cv_results_)\n",
        "    logreg_accuracy_by_max_features = logreg_results.groupby('param_preprocessor__tfidf__max_features')['mean_test_score'].mean()\n",
        "\n",
        "    svm_results = pd.DataFrame(svm_grid_search_results.cv_results_)\n",
        "    svm_accuracy_by_max_features = svm_results.groupby('param_preprocessor__tfidf__max_features')['mean_test_score'].mean()\n",
        "\n",
        "    plt.figure(figsize=(10, 6))\n",
        "    plt.plot(logreg_accuracy_by_max_features.index, logreg_accuracy_by_max_features.values, marker='o', label='Logistic Regression')\n",
        "    plt.plot(svm_accuracy_by_max_features.index, svm_accuracy_by_max_features.values, marker='x', label='SVM')\n",
        "    plt.title('Acurácia por # Features/Tokens')\n",
        "    plt.xlabel('# Features/Tokens')\n",
        "    plt.ylabel('Acurácia')\n",
        "    plt.legend()\n",
        "    plt.grid(True)\n",
        "    plt.show()"
      ],
      "cell_type": "code",
      "metadata": {
        "id": "yg1PgCJWPV_v"
      },
      "execution_count": 16,
      "outputs": []
    },
    {
      "source": [
        "def avaliacao_e_plot_acuracia(y_test, logreg_bert_predictions, svm_bert_predictions):\n",
        "    \"\"\"Evaluates and reports the accuracy of Logistic Regression and SVM models.\n",
        "\n",
        "    Args:\n",
        "        y_test: The true labels for the test data.\n",
        "        logreg_bert_predictions: The predictions from the Logistic Regression model.\n",
        "        svm_bert_predictions: The predictions from the SVM model.\n",
        "    \"\"\"\n",
        "\n",
        "    # Logistic Regression Evaluation\n",
        "    logreg_bert_accuracy = accuracy_score(y_test, logreg_bert_predictions)\n",
        "    print(f\"Acurácia Logistic Regression (após otimização): {logreg_bert_accuracy}\")\n",
        "    print(classification_report(y_test, logreg_bert_predictions))\n",
        "\n",
        "    # SVM Evaluation\n",
        "    svm_bert_accuracy = accuracy_score(y_test, svm_bert_predictions)\n",
        "    print(f\"Acurácia SVM Accuracy (após otimização): {svm_bert_accuracy}\")\n",
        "    print(classification_report(y_test, svm_bert_predictions))"
      ],
      "cell_type": "code",
      "metadata": {
        "id": "CMyONsSfRHRf"
      },
      "execution_count": 7,
      "outputs": []
    },
    {
      "source": [
        "def impressao_tempo(training_time_seconds, model_name):\n",
        "    \"\"\"Prints the training time in hours, minutes, and seconds.\n",
        "\n",
        "    Args:\n",
        "        training_time_seconds: The training time in seconds.\n",
        "        model_name: The name of the model being trained.\n",
        "    \"\"\"\n",
        "\n",
        "    hours = int(training_time_seconds // 3600)\n",
        "    minutes = int((training_time_seconds % 3600) // 60)\n",
        "    seconds = int(training_time_seconds % 60)\n",
        "\n",
        "    print(f\"Tempo de Treinamento - {model_name}: {hours:02d}:{minutes:02d}:{seconds:02d}\")"
      ],
      "cell_type": "code",
      "metadata": {
        "id": "hPT8zV7VTS4j"
      },
      "execution_count": 8,
      "outputs": []
    },
    {
      "source": [
        "def display_best_hyperparameters(grid_search, model_name):\n",
        "    \"\"\"Displays the best hyperparameters and their scores in a table format.\n",
        "\n",
        "    Args:\n",
        "        grid_search_results: The cv_results_ attribute of the GridSearchCV object.\n",
        "        model_name: The name of the model.\n",
        "    \"\"\"\n",
        "\n",
        "    best_params = grid_search.best_params_\n",
        "    best_score = grid_search.best_score_\n",
        "\n",
        "    table_html = f\"<h3>{model_name} - Melhores Parametros e Score </h3>\"\n",
        "    table_html += \"<table><tr><th>Hyperparameter</th><th>Value</th></tr>\"\n",
        "    for param, value in best_params.items():\n",
        "        table_html += f\"<tr><td>{param}</td><td>{value}</td></tr>\"\n",
        "    table_html += f\"<tr><td><b>Best Score</b></td><td><b>{best_score:.4f}</b></td></tr></table>\"\n",
        "\n",
        "    display(HTML(table_html))\n"
      ],
      "cell_type": "code",
      "metadata": {
        "id": "wRn7TzecZrWf"
      },
      "execution_count": 26,
      "outputs": []
    },
    {
      "cell_type": "code",
      "source": [
        "l"
      ],
      "metadata": {
        "id": "Aw4eQ9dkzc74"
      },
      "execution_count": null,
      "outputs": []
    },
    {
      "source": [
        "def plot_confusion_matrices(y_test, logreg_predictions, svm_predictions):\n",
        "    \"\"\"Plots confusion matrices for Logistic Regression and SVM models.\n",
        "\n",
        "    Args:\n",
        "        y_test: The true labels for the test data.\n",
        "        logreg_predictions: The predictions from the Logistic Regression model.\n",
        "        svm_predictions: The predictions from the SVM model.\n",
        "    \"\"\"\n",
        "\n",
        "    # Calculate confusion matrices\n",
        "    logreg_cm = confusion_matrix(y_test, logreg_predictions)\n",
        "    svm_cm = confusion_matrix(y_test, svm_predictions)\n",
        "\n",
        "    # Create subplots\n",
        "    fig, axes = plt.subplots(1, 2, figsize=(12, 6))\n",
        "\n",
        "    # Plot Logistic Regression confusion matrix\n",
        "    sns.heatmap(logreg_cm, annot=True, fmt='d', cmap='Blues', ax=axes[0])\n",
        "    axes[0].set_title('Matrix Confusão - Regressão Logística')\n",
        "    axes[0].set_xlabel('Predição')\n",
        "    axes[0].set_ylabel('Real')\n",
        "\n",
        "    # Plot SVM confusion matrix\n",
        "    sns.heatmap(svm_cm, annot=True, fmt='d', cmap='Greens', ax=axes[1])\n",
        "    axes[1].set_title('Matrix Confusão - SVM')  # Changed title to SVM\n",
        "    axes[1].set_xlabel('Predição')\n",
        "    axes[1].set_ylabel('Real')\n",
        "\n",
        "    plt.show()  # Add plt.show() to display the plot"
      ],
      "cell_type": "code",
      "metadata": {
        "id": "BUGZAoV6mGZo"
      },
      "execution_count": 17,
      "outputs": []
    },
    {
      "cell_type": "markdown",
      "metadata": {
        "id": "kYmRXwqT2tQ6"
      },
      "source": [
        "Gerar BERT embeddings"
      ]
    },
    {
      "cell_type": "code",
      "execution_count": 10,
      "metadata": {
        "id": "efTbeQL02qx0"
      },
      "outputs": [],
      "source": [
        "def get_bert_embeddings(text):\n",
        "    inputs = tokenizer(text, return_tensors='tf', padding=True, truncation=True)\n",
        "    outputs = model(inputs)\n",
        "    embeddings = outputs.last_hidden_state[:, 0, :]  # Use the [CLS] token embedding\n",
        "    return embeddings.numpy()\n",
        "\n"
      ]
    },
    {
      "cell_type": "code",
      "execution_count": 11,
      "metadata": {
        "colab": {
          "base_uri": "https://localhost:8080/",
          "height": 206
        },
        "id": "VZYqSMQ8Op-r",
        "outputId": "dc7ddc1a-5097-46e2-e05b-253879b78b85"
      },
      "outputs": [
        {
          "output_type": "execute_result",
          "data": {
            "text/plain": [
              "        Date category                                              title  \\\n",
              "0 2020-01-27  opinion  Apple Set To Beat Q1 Earnings Estimates  Tech ...   \n",
              "1 2020-01-27  opinion  Tech Daily  Intel Results  Netflix Surge  Appl...   \n",
              "2 2020-01-27  opinion  7 Monster Stock Market Predictions For The Wee...   \n",
              "3 2020-01-27  opinion  Apple Earnings Preview  5G Launch  Expanding S...   \n",
              "4 2020-01-27  opinion  Buy Surging Apple   Microsoft Stock Before Qua...   \n",
              "\n",
              "                                             content  label  \n",
              "0  Technology giant Apple   NASDAQ AAPL   is set ...      0  \n",
              "1  The top stories in this digest are Intel s   N...      0  \n",
              "2  S P 500  SPY \\nThis week will be packed with e...      0  \n",
              "3    Reports Q1 2020 results on Tuesday  Jan  28 ...      0  \n",
              "4  On today s episode of Full Court Finance here ...      0  "
            ],
            "text/html": [
              "\n",
              "  <div id=\"df-56bd9a4a-1b24-49aa-97ef-815940f0cf25\" class=\"colab-df-container\">\n",
              "    <div>\n",
              "<style scoped>\n",
              "    .dataframe tbody tr th:only-of-type {\n",
              "        vertical-align: middle;\n",
              "    }\n",
              "\n",
              "    .dataframe tbody tr th {\n",
              "        vertical-align: top;\n",
              "    }\n",
              "\n",
              "    .dataframe thead th {\n",
              "        text-align: right;\n",
              "    }\n",
              "</style>\n",
              "<table border=\"1\" class=\"dataframe\">\n",
              "  <thead>\n",
              "    <tr style=\"text-align: right;\">\n",
              "      <th></th>\n",
              "      <th>Date</th>\n",
              "      <th>category</th>\n",
              "      <th>title</th>\n",
              "      <th>content</th>\n",
              "      <th>label</th>\n",
              "    </tr>\n",
              "  </thead>\n",
              "  <tbody>\n",
              "    <tr>\n",
              "      <th>0</th>\n",
              "      <td>2020-01-27</td>\n",
              "      <td>opinion</td>\n",
              "      <td>Apple Set To Beat Q1 Earnings Estimates  Tech ...</td>\n",
              "      <td>Technology giant Apple   NASDAQ AAPL   is set ...</td>\n",
              "      <td>0</td>\n",
              "    </tr>\n",
              "    <tr>\n",
              "      <th>1</th>\n",
              "      <td>2020-01-27</td>\n",
              "      <td>opinion</td>\n",
              "      <td>Tech Daily  Intel Results  Netflix Surge  Appl...</td>\n",
              "      <td>The top stories in this digest are Intel s   N...</td>\n",
              "      <td>0</td>\n",
              "    </tr>\n",
              "    <tr>\n",
              "      <th>2</th>\n",
              "      <td>2020-01-27</td>\n",
              "      <td>opinion</td>\n",
              "      <td>7 Monster Stock Market Predictions For The Wee...</td>\n",
              "      <td>S P 500  SPY \\nThis week will be packed with e...</td>\n",
              "      <td>0</td>\n",
              "    </tr>\n",
              "    <tr>\n",
              "      <th>3</th>\n",
              "      <td>2020-01-27</td>\n",
              "      <td>opinion</td>\n",
              "      <td>Apple Earnings Preview  5G Launch  Expanding S...</td>\n",
              "      <td>Reports Q1 2020 results on Tuesday  Jan  28 ...</td>\n",
              "      <td>0</td>\n",
              "    </tr>\n",
              "    <tr>\n",
              "      <th>4</th>\n",
              "      <td>2020-01-27</td>\n",
              "      <td>opinion</td>\n",
              "      <td>Buy Surging Apple   Microsoft Stock Before Qua...</td>\n",
              "      <td>On today s episode of Full Court Finance here ...</td>\n",
              "      <td>0</td>\n",
              "    </tr>\n",
              "  </tbody>\n",
              "</table>\n",
              "</div>\n",
              "    <div class=\"colab-df-buttons\">\n",
              "\n",
              "  <div class=\"colab-df-container\">\n",
              "    <button class=\"colab-df-convert\" onclick=\"convertToInteractive('df-56bd9a4a-1b24-49aa-97ef-815940f0cf25')\"\n",
              "            title=\"Convert this dataframe to an interactive table.\"\n",
              "            style=\"display:none;\">\n",
              "\n",
              "  <svg xmlns=\"http://www.w3.org/2000/svg\" height=\"24px\" viewBox=\"0 -960 960 960\">\n",
              "    <path d=\"M120-120v-720h720v720H120Zm60-500h600v-160H180v160Zm220 220h160v-160H400v160Zm0 220h160v-160H400v160ZM180-400h160v-160H180v160Zm440 0h160v-160H620v160ZM180-180h160v-160H180v160Zm440 0h160v-160H620v160Z\"/>\n",
              "  </svg>\n",
              "    </button>\n",
              "\n",
              "  <style>\n",
              "    .colab-df-container {\n",
              "      display:flex;\n",
              "      gap: 12px;\n",
              "    }\n",
              "\n",
              "    .colab-df-convert {\n",
              "      background-color: #E8F0FE;\n",
              "      border: none;\n",
              "      border-radius: 50%;\n",
              "      cursor: pointer;\n",
              "      display: none;\n",
              "      fill: #1967D2;\n",
              "      height: 32px;\n",
              "      padding: 0 0 0 0;\n",
              "      width: 32px;\n",
              "    }\n",
              "\n",
              "    .colab-df-convert:hover {\n",
              "      background-color: #E2EBFA;\n",
              "      box-shadow: 0px 1px 2px rgba(60, 64, 67, 0.3), 0px 1px 3px 1px rgba(60, 64, 67, 0.15);\n",
              "      fill: #174EA6;\n",
              "    }\n",
              "\n",
              "    .colab-df-buttons div {\n",
              "      margin-bottom: 4px;\n",
              "    }\n",
              "\n",
              "    [theme=dark] .colab-df-convert {\n",
              "      background-color: #3B4455;\n",
              "      fill: #D2E3FC;\n",
              "    }\n",
              "\n",
              "    [theme=dark] .colab-df-convert:hover {\n",
              "      background-color: #434B5C;\n",
              "      box-shadow: 0px 1px 3px 1px rgba(0, 0, 0, 0.15);\n",
              "      filter: drop-shadow(0px 1px 2px rgba(0, 0, 0, 0.3));\n",
              "      fill: #FFFFFF;\n",
              "    }\n",
              "  </style>\n",
              "\n",
              "    <script>\n",
              "      const buttonEl =\n",
              "        document.querySelector('#df-56bd9a4a-1b24-49aa-97ef-815940f0cf25 button.colab-df-convert');\n",
              "      buttonEl.style.display =\n",
              "        google.colab.kernel.accessAllowed ? 'block' : 'none';\n",
              "\n",
              "      async function convertToInteractive(key) {\n",
              "        const element = document.querySelector('#df-56bd9a4a-1b24-49aa-97ef-815940f0cf25');\n",
              "        const dataTable =\n",
              "          await google.colab.kernel.invokeFunction('convertToInteractive',\n",
              "                                                    [key], {});\n",
              "        if (!dataTable) return;\n",
              "\n",
              "        const docLinkHtml = 'Like what you see? Visit the ' +\n",
              "          '<a target=\"_blank\" href=https://colab.research.google.com/notebooks/data_table.ipynb>data table notebook</a>'\n",
              "          + ' to learn more about interactive tables.';\n",
              "        element.innerHTML = '';\n",
              "        dataTable['output_type'] = 'display_data';\n",
              "        await google.colab.output.renderOutput(dataTable, element);\n",
              "        const docLink = document.createElement('div');\n",
              "        docLink.innerHTML = docLinkHtml;\n",
              "        element.appendChild(docLink);\n",
              "      }\n",
              "    </script>\n",
              "  </div>\n",
              "\n",
              "\n",
              "<div id=\"df-20f79c8d-c38a-4e54-8070-cd524a506d13\">\n",
              "  <button class=\"colab-df-quickchart\" onclick=\"quickchart('df-20f79c8d-c38a-4e54-8070-cd524a506d13')\"\n",
              "            title=\"Suggest charts\"\n",
              "            style=\"display:none;\">\n",
              "\n",
              "<svg xmlns=\"http://www.w3.org/2000/svg\" height=\"24px\"viewBox=\"0 0 24 24\"\n",
              "     width=\"24px\">\n",
              "    <g>\n",
              "        <path d=\"M19 3H5c-1.1 0-2 .9-2 2v14c0 1.1.9 2 2 2h14c1.1 0 2-.9 2-2V5c0-1.1-.9-2-2-2zM9 17H7v-7h2v7zm4 0h-2V7h2v10zm4 0h-2v-4h2v4z\"/>\n",
              "    </g>\n",
              "</svg>\n",
              "  </button>\n",
              "\n",
              "<style>\n",
              "  .colab-df-quickchart {\n",
              "      --bg-color: #E8F0FE;\n",
              "      --fill-color: #1967D2;\n",
              "      --hover-bg-color: #E2EBFA;\n",
              "      --hover-fill-color: #174EA6;\n",
              "      --disabled-fill-color: #AAA;\n",
              "      --disabled-bg-color: #DDD;\n",
              "  }\n",
              "\n",
              "  [theme=dark] .colab-df-quickchart {\n",
              "      --bg-color: #3B4455;\n",
              "      --fill-color: #D2E3FC;\n",
              "      --hover-bg-color: #434B5C;\n",
              "      --hover-fill-color: #FFFFFF;\n",
              "      --disabled-bg-color: #3B4455;\n",
              "      --disabled-fill-color: #666;\n",
              "  }\n",
              "\n",
              "  .colab-df-quickchart {\n",
              "    background-color: var(--bg-color);\n",
              "    border: none;\n",
              "    border-radius: 50%;\n",
              "    cursor: pointer;\n",
              "    display: none;\n",
              "    fill: var(--fill-color);\n",
              "    height: 32px;\n",
              "    padding: 0;\n",
              "    width: 32px;\n",
              "  }\n",
              "\n",
              "  .colab-df-quickchart:hover {\n",
              "    background-color: var(--hover-bg-color);\n",
              "    box-shadow: 0 1px 2px rgba(60, 64, 67, 0.3), 0 1px 3px 1px rgba(60, 64, 67, 0.15);\n",
              "    fill: var(--button-hover-fill-color);\n",
              "  }\n",
              "\n",
              "  .colab-df-quickchart-complete:disabled,\n",
              "  .colab-df-quickchart-complete:disabled:hover {\n",
              "    background-color: var(--disabled-bg-color);\n",
              "    fill: var(--disabled-fill-color);\n",
              "    box-shadow: none;\n",
              "  }\n",
              "\n",
              "  .colab-df-spinner {\n",
              "    border: 2px solid var(--fill-color);\n",
              "    border-color: transparent;\n",
              "    border-bottom-color: var(--fill-color);\n",
              "    animation:\n",
              "      spin 1s steps(1) infinite;\n",
              "  }\n",
              "\n",
              "  @keyframes spin {\n",
              "    0% {\n",
              "      border-color: transparent;\n",
              "      border-bottom-color: var(--fill-color);\n",
              "      border-left-color: var(--fill-color);\n",
              "    }\n",
              "    20% {\n",
              "      border-color: transparent;\n",
              "      border-left-color: var(--fill-color);\n",
              "      border-top-color: var(--fill-color);\n",
              "    }\n",
              "    30% {\n",
              "      border-color: transparent;\n",
              "      border-left-color: var(--fill-color);\n",
              "      border-top-color: var(--fill-color);\n",
              "      border-right-color: var(--fill-color);\n",
              "    }\n",
              "    40% {\n",
              "      border-color: transparent;\n",
              "      border-right-color: var(--fill-color);\n",
              "      border-top-color: var(--fill-color);\n",
              "    }\n",
              "    60% {\n",
              "      border-color: transparent;\n",
              "      border-right-color: var(--fill-color);\n",
              "    }\n",
              "    80% {\n",
              "      border-color: transparent;\n",
              "      border-right-color: var(--fill-color);\n",
              "      border-bottom-color: var(--fill-color);\n",
              "    }\n",
              "    90% {\n",
              "      border-color: transparent;\n",
              "      border-bottom-color: var(--fill-color);\n",
              "    }\n",
              "  }\n",
              "</style>\n",
              "\n",
              "  <script>\n",
              "    async function quickchart(key) {\n",
              "      const quickchartButtonEl =\n",
              "        document.querySelector('#' + key + ' button');\n",
              "      quickchartButtonEl.disabled = true;  // To prevent multiple clicks.\n",
              "      quickchartButtonEl.classList.add('colab-df-spinner');\n",
              "      try {\n",
              "        const charts = await google.colab.kernel.invokeFunction(\n",
              "            'suggestCharts', [key], {});\n",
              "      } catch (error) {\n",
              "        console.error('Error during call to suggestCharts:', error);\n",
              "      }\n",
              "      quickchartButtonEl.classList.remove('colab-df-spinner');\n",
              "      quickchartButtonEl.classList.add('colab-df-quickchart-complete');\n",
              "    }\n",
              "    (() => {\n",
              "      let quickchartButtonEl =\n",
              "        document.querySelector('#df-20f79c8d-c38a-4e54-8070-cd524a506d13 button');\n",
              "      quickchartButtonEl.style.display =\n",
              "        google.colab.kernel.accessAllowed ? 'block' : 'none';\n",
              "    })();\n",
              "  </script>\n",
              "</div>\n",
              "\n",
              "    </div>\n",
              "  </div>\n"
            ],
            "application/vnd.google.colaboratory.intrinsic+json": {
              "type": "dataframe",
              "variable_name": "df",
              "summary": "{\n  \"name\": \"df\",\n  \"rows\": 15975,\n  \"fields\": [\n    {\n      \"column\": \"Date\",\n      \"properties\": {\n        \"dtype\": \"date\",\n        \"min\": \"2012-07-23 00:00:00\",\n        \"max\": \"2020-01-27 00:00:00\",\n        \"num_unique_values\": 1654,\n        \"samples\": [\n          \"2012-07-31 00:00:00\",\n          \"2019-10-14 00:00:00\",\n          \"2017-09-22 00:00:00\"\n        ],\n        \"semantic_type\": \"\",\n        \"description\": \"\"\n      }\n    },\n    {\n      \"column\": \"category\",\n      \"properties\": {\n        \"dtype\": \"category\",\n        \"num_unique_values\": 2,\n        \"samples\": [\n          \"news\",\n          \"opinion\"\n        ],\n        \"semantic_type\": \"\",\n        \"description\": \"\"\n      }\n    },\n    {\n      \"column\": \"title\",\n      \"properties\": {\n        \"dtype\": \"string\",\n        \"num_unique_values\": 15866,\n        \"samples\": [\n          \"China OKs iPhone 6 sale after Apple addresses security concerns\",\n          \"Will Amgen Continue To Surge Higher \"\n        ],\n        \"semantic_type\": \"\",\n        \"description\": \"\"\n      }\n    },\n    {\n      \"column\": \"content\",\n      \"properties\": {\n        \"dtype\": \"string\",\n        \"num_unique_values\": 15958,\n        \"samples\": [\n          \"Upstream energy firm  Range Resources Corporation   NYSE RRC    is set to report fourth quarter 2017 results on Feb 27  after the closing bell Last quarter  the company delivered a positive earnings surprise of 150   Range Resources also managed to beat the Zacks Consensus Estimate in three of the last four quarters  the average positive earnings surprise being 74 3      Let s see how things are shaping up for this announcement     Which Way Are Estimates Treading Let s look at the estimate revisions in order to get a clear picture of what analysts are thinking about the company before earnings release The Zacks Consensus Estimate of 15 cents for the fourth quarter has remained unchanged for the last seven days  This represents a year over year earnings plunge of 34 8  Further  analysts polled by Zacks expect revenues of  643 million for the impending quarter  up 153 7  from the year ago quarter Range Resources Corporation Price and EPS Surprise   Factors to Consider This QuarterThe Zacks Consensus Estimate for the company s total fourth quarter production is pegged at 2 175 million cubic feet equivalent per day  MMcfe d    almost in line with the company s projection of 2 170 MMcfe d  up from 1 986 MMcfe d reported in the prior quarter and 1 854 MMcfe d in the year ago quarter The Zacks Consensus Estimate for the company s natural gas price realizations   including hedging   is pegged at  2 83 per Mcf  up from  2 69 per Mcf in the third quarter but down from  2 93 recorded in the October to December quarter of 2016 Higher expected average daily production and favorable sequential natural gas price realizations might contribute to the company s earnings   However  the upstream firm s long term debt increased 42 3  through 2016 and 5 5  during the first nine months of 2017  Although increasing debt load is a concern  the company s debt to capitalization ratio came lower than the   Total debt to capitalization ratio of the company is 41 8   lower than the industry s 49 4        Earnings WhispersOur proven model does not conclusively show that Range Resources will beat estimates this quarter  That is because a stock needs to have a positive  and a Zacks Rank  1  Strong Buy   2  Buy  or 3  Hold  for this to happen  That is not the case here as you will see below Zacks ESP  Earnings ESP  which represents the difference between the Most Accurate estimate and the Zacks Consensus Estimate  is pegged at  2 90   You can uncover the best stocks to buy or sell before they re reported with our  Zacks Rank  Range Resources currently carries a Zacks Rank  3  Hold  Although a favorable Zacks rank increases the predictive power of ESP  we need to have a positive ESP to be confident of an earnings beat Please note that the Sell rated stocks  Zacks Rank  4 or 5  should never be considered going into an earnings announcement   Stocks to ConsiderHere are a couple of companies which  per our model  have the right combination of elements to post an earnings beat this quarter  Houston  TX based EOG Resources   NYSE EOG   is an upstream company  It has an Earnings ESP of  3 61  and a Zacks Rank of 1  You can see  WildHorse Resource Development Corporation   NYSE WRD    based in Houston  TX  is also an upstream energy firm  It has an Earnings ESP of   5 26  and flaunts a Zacks Rank of 1  Dallas  TX based RSP Permian  Inc    NYSE RSPP   is an upstream energy company with an Earnings ESP of   1 47   It is a Zacks  3 Ranked player More Stock News  This Is Bigger than the iPhone  It could become the mother of all technological revolutions  Apple  NASDAQ AAPL  sold a mere 1 billion iPhones in 10 years but a new breakthrough is expected to generate more than 27 billion devices in just 3 years  creating a  1 7 trillion market Zacks has just released a Special Report that spotlights this fast emerging phenomenon and 6 tickers for taking advantage of it  If you don t buy now  you may kick yourself in 2020 \",\n          \"Apple Inc    NASDAQ AAPL   was having a splendid 2017 until it was revealed that software updates were slowing iPhones with older batteries  The stock lost 2 2  in the last five sessions and is currently facing at least  lawsuits in various federal courts regarding the issue The iPhone maker recently issued a  at its website  apologizing for the lack of transparency relating to the handling of iPhone performance with older batteries  However  the company denied that it has ever done anything to intentionally shorten the life of a product Moreover  the company announced certain steps to pacify aggrieved customers The company will lower the price of an out of warranty battery replacement by  50 for anyone with an iPhone 6 or later  The offer will be available from late January through December 2018  It will also issue an iOS software update with new features that give users more visibility into the health of their iPhone s battery Apple Inc  Price and Consensus\\n    \\nApple Devices Activated Most in the HolidaysApple s apologetic stance is understandable considering the value of older models in the market According to TechCrunch  which quoted data from Flurry Analytics  Apple devices accounted for 44  of smartphone and tablet activations during the holidays  Interestingly  older devices   iPhone 7 and iPhone 6   took the top spots in terms of activations The data reflects Apple s diversifying business model  It s no longer dependent on a single device for generating top line growth  We note that iPhone 7 and older models have significant demand in cost sensitive markets of Asia Pacific  India and China Apple s flagship product iPhone X at  999 is pricey for these markets  Taiwan s Economic Daily recently suggested that Apple may cut unit volume by 20 million from its original expectation in the fiscal first quarter What to Expect from Apple in 2018Despite the  transparency  debacle  we believe that Apple has significant prospects in 2018  backed by expanding product portfolio Apart from the iPhone  the aggressively growing Services business is a key catalyst  Services  which include revenues from Internet Services  App store  Apple Music  AppleCare  Apple Pay  licensing and other services  surged 34  year over year to nearly  8 5 billion in the last quarter Apple is on track to double Services revenues of  24 billion in fiscal 2016 by 2020  To boost subscriber base  the company is now venturing into original programming  Apple is reportedly willing to invest  1 billion and has appointed ex Sony executives Jamie Erlicht and Zack Van Amburg  to initiate expansion into original television programming Apple recently acquired popular music discovery app Shazam for an estimated  400 million  The company is  to integrate the software into Apple Music  or Siri  or in HomePod  its high end smart speaker with a superior sound quality  which will be launched in 2018 Moreover  we believe that foray into fast growing technologies like autonomous vehicle  artificial intelligence  AI    AR VR are other long term catalysts Zacks Rank   Key PicksCurrently  Apple sports a Zacks Rank  3  Hold  A few better ranked stocks in the broader technology sector are NetApp  Inc   NASDAQ NTAP    NVIDIA Corporation   NASDAQ NVDA   and Broadcom Limited   NASDAQ AVGO    all sporting a Zacks Rank  1  Strong Buy   You can see NetApp  NVIDIA and Broadcom have a long term expected earnings growth rate of 11 34   10 25  and 13 75   respectively \\n \\nMore Stock News  This Is Bigger than the iPhone \\nIt could become the mother of all technological revolutions  Apple sold a mere 1 billion iPhones in 10 years but a new breakthrough is expected to generate more than 27 billion devices in just 3 years  creating a  1 7 trillion market \\nZacks has just released a Special Report that spotlights this fast emerging phenomenon and 6 tickers for taking advantage of it  If you don t buy now  you may kick yourself in 2020 \"\n        ],\n        \"semantic_type\": \"\",\n        \"description\": \"\"\n      }\n    },\n    {\n      \"column\": \"label\",\n      \"properties\": {\n        \"dtype\": \"number\",\n        \"std\": 0,\n        \"min\": 0,\n        \"max\": 1,\n        \"num_unique_values\": 2,\n        \"samples\": [\n          1,\n          0\n        ],\n        \"semantic_type\": \"\",\n        \"description\": \"\"\n      }\n    }\n  ]\n}"
            }
          },
          "metadata": {},
          "execution_count": 11
        }
      ],
      "source": [
        "# Corrected URL to download the raw Excel file from GitHub\n",
        "url = 'https://raw.githubusercontent.com/geraldoferreira1963/Analise_Sentimento/main/carga_inicial_6.xlsx'\n",
        "\n",
        "response = requests.get(url)\n",
        "\n",
        "# Save the content to a file with .xlsx extension\n",
        "with open('carga_inicial_6.xlsx', 'wb') as file:\n",
        "    file.write(response.content)\n",
        "\n",
        "# Read the Excel file, explicitly specifying the engine\n",
        "df = pd.read_excel('carga_inicial_6.xlsx', engine='openpyxl') # Added engine parameter\n",
        "\n",
        "# Display the first few rows of the DataFrame\n",
        "df.head()"
      ]
    },
    {
      "cell_type": "markdown",
      "metadata": {
        "id": "ZFyCIUckr5DV"
      },
      "source": [
        "Visualização Inicial do Dataset"
      ]
    },
    {
      "cell_type": "code",
      "execution_count": 12,
      "metadata": {
        "colab": {
          "base_uri": "https://localhost:8080/",
          "height": 1000
        },
        "id": "64FFuuPGrDqi",
        "outputId": "87cb80f2-d73e-4d6a-f9dd-2a75bd70af02"
      },
      "outputs": [
        {
          "output_type": "stream",
          "name": "stdout",
          "text": [
            "Número de Linhas com Label 0: 7135\n",
            "Número de Linhas com Label 1: 8840\n"
          ]
        },
        {
          "output_type": "display_data",
          "data": {
            "text/plain": [
              "<Figure size 640x480 with 1 Axes>"
            ],
            "image/png": "[encoded data removed]"
          },
          "metadata": {}
        },
        {
          "output_type": "stream",
          "name": "stdout",
          "text": [
            "Minimo comprimento do conteúdo: 41\n",
            "Máximo comprimento do conteúdo: 32765\n",
            "Numero de palavras únicas: 85086\n"
          ]
        },
        {
          "output_type": "display_data",
          "data": {
            "text/plain": [
              "<Figure size 1200x600 with 1 Axes>"
            ],
            "image/png": "[encoded data removed]"
          },
          "metadata": {}
        },
        {
          "output_type": "execute_result",
          "data": {
            "text/plain": [
              "(85086, 41, 32765)"
            ]
          },
          "metadata": {},
          "execution_count": 12
        }
      ],
      "source": [
        "\n",
        "# Verificação Inicial do dataset\n",
        "analisar_dataframe(df,column_name='content')  # Call the function to analyze your DataFrame\n"
      ]
    },
    {
      "cell_type": "markdown",
      "metadata": {
        "id": "e_HoHrgUr_OH"
      },
      "source": [
        "Ajuste Inicial"
      ]
    },
    {
      "cell_type": "code",
      "execution_count": 13,
      "metadata": {
        "colab": {
          "base_uri": "https://localhost:8080/",
          "height": 1000
        },
        "id": "UWZbXn8Tr15S",
        "outputId": "2a3bf50d-4755-4ae3-ea30-8ff9c2de36f9"
      },
      "outputs": [
        {
          "output_type": "stream",
          "name": "stdout",
          "text": [
            "Número de Linhas com Label 0: 100\n",
            "Número de Linhas com Label 1: 100\n"
          ]
        },
        {
          "output_type": "display_data",
          "data": {
            "text/plain": [
              "<Figure size 640x480 with 1 Axes>"
            ],
            "image/png": "[encoded data removed]"
          },
          "metadata": {}
        },
        {
          "output_type": "stream",
          "name": "stdout",
          "text": [
            "Minimo comprimento do conteúdo: 67\n",
            "Máximo comprimento do conteúdo: 13304\n",
            "Numero de palavras únicas: 10182\n"
          ]
        },
        {
          "output_type": "display_data",
          "data": {
            "text/plain": [
              "<Figure size 1200x600 with 1 Axes>"
            ],
            "image/png": "[encoded data removed]"
          },
          "metadata": {}
        }
      ],
      "source": [
        "# Example usage:\n",
        "num_instances_per_label = 1000  # Definir o número de instancias\n",
        "balanced_df = criar_dataframe_balanceado(df, num_instances_per_label)\n",
        "max_tokens,min_cont,max_cont = analisar_dataframe(balanced_df,column_name='content')"
      ]
    },
    {
      "cell_type": "markdown",
      "metadata": {
        "id": "1orRpBrjLqC-"
      },
      "source": [
        "Preparação dos Dados\n",
        "\n",
        "(1) Coluna News ou Opiniao\n",
        "(2) Coluna Categoria\n",
        "(3) Coluna label\n"
      ]
    },
    {
      "cell_type": "code",
      "execution_count": 14,
      "metadata": {
        "colab": {
          "base_uri": "https://localhost:8080/"
        },
        "id": "yU4_F2qeJhrI",
        "outputId": "54b03b20-04d7-4683-bd9c-7d6aee2f59f0"
      },
      "outputs": [
        {
          "output_type": "stream",
          "name": "stdout",
          "text": [
            "Número de palavras únicas: 10182\n",
            "Minimo comprimento do conteúdo: 67\n",
            "Máximo comprimento do conteúdo: 13304\n"
          ]
        }
      ],
      "source": [
        "print(\"Número de palavras únicas:\", max_tokens)\n",
        "print(\"Minimo comprimento do conteúdo:\", min_cont)\n",
        "print(\"Máximo comprimento do conteúdo:\", max_cont)"
      ]
    },
    {
      "cell_type": "markdown",
      "metadata": {
        "id": "ftculZYHW2_s"
      },
      "source": [
        "SVM e Regressão Logística - Preparação dos Dados"
      ]
    },
    {
      "cell_type": "code",
      "execution_count": 39,
      "metadata": {
        "colab": {
          "base_uri": "https://localhost:8080/",
          "height": 1000
        },
        "id": "wF82fpx8k2Eo",
        "outputId": "108ff3be-d319-4021-9dea-7d1ba9b02169"
      },
      "outputs": [
        {
          "output_type": "stream",
          "name": "stdout",
          "text": [
            "Fitting 5 folds for each of 36 candidates, totalling 180 fits\n",
            "Logistic Regression training time: 32.23 seconds\n",
            "Fitting 5 folds for each of 36 candidates, totalling 180 fits\n",
            "SVM training time: 27.24 seconds\n",
            "Acurácia Logistic Regression (após otimização): 0.6\n",
            "              precision    recall  f1-score   support\n",
            "\n",
            "           0       0.65      0.52      0.58        21\n",
            "           1       0.57      0.68      0.62        19\n",
            "\n",
            "    accuracy                           0.60        40\n",
            "   macro avg       0.61      0.60      0.60        40\n",
            "weighted avg       0.61      0.60      0.60        40\n",
            "\n",
            "Acurácia SVM Accuracy (após otimização): 0.575\n",
            "              precision    recall  f1-score   support\n",
            "\n",
            "           0       0.61      0.52      0.56        21\n",
            "           1       0.55      0.63      0.59        19\n",
            "\n",
            "    accuracy                           0.57        40\n",
            "   macro avg       0.58      0.58      0.57        40\n",
            "weighted avg       0.58      0.57      0.57        40\n",
            "\n"
          ]
        },
        {
          "output_type": "display_data",
          "data": {
            "text/plain": [
              "<Figure size 1200x600 with 4 Axes>"
            ],
            "image/png": "[encoded data removed]"
          },
          "metadata": {}
        },
        {
          "output_type": "display_data",
          "data": {
            "text/plain": [
              "<Figure size 1000x600 with 1 Axes>"
            ],
            "image/png": "[encoded data removed]"
          },
          "metadata": {}
        },
        {
          "output_type": "display_data",
          "data": {
            "text/plain": [
              "<IPython.core.display.HTML object>"
            ],
            "text/html": [
              "<h3>Regressão Logística - Melhores Parametros e Score </h3><table><tr><th>Hyperparameter</th><th>Value</th></tr><tr><td>logreg__C</td><td>0.1</td></tr><tr><td>logreg__penalty</td><td>l2</td></tr><tr><td>logreg__solver</td><td>liblinear</td></tr><tr><td>preprocessor__tfidf__max_features</td><td>5000</td></tr><tr><td><b>Best Score</b></td><td><b>0.5500</b></td></tr></table>"
            ]
          },
          "metadata": {}
        },
        {
          "output_type": "display_data",
          "data": {
            "text/plain": [
              "<IPython.core.display.HTML object>"
            ],
            "text/html": [
              "<h3>SVM - Melhores Parametros e Score </h3><table><tr><th>Hyperparameter</th><th>Value</th></tr><tr><td>preprocessor__tfidf__max_features</td><td>7500</td></tr><tr><td>svm__C</td><td>1</td></tr><tr><td>svm__gamma</td><td>scale</td></tr><tr><td>svm__kernel</td><td>rbf</td></tr><tr><td><b>Best Score</b></td><td><b>0.5563</b></td></tr></table>"
            ]
          },
          "metadata": {}
        },
        {
          "output_type": "stream",
          "name": "stdout",
          "text": [
            "Tempo de Treinamento - Regressão Logística: 00:00:32\n",
            "Tempo de Treinamento - SVM: 00:00:27\n"
          ]
        }
      ],
      "source": [
        "#####  Pré Preparação dos Dados ################################################\n",
        "\n",
        "# Remoção de Features\n",
        "\n",
        "balanced_df['content'] = balanced_df['content'].apply(preprocess_text)\n",
        "\n",
        "### Vetorização da coluna content e label encode da coluna categoria\n",
        "\n",
        "def label_encode(X):\n",
        "    le = LabelEncoder()\n",
        "    encoded = le.fit_transform(X.values.ravel())\n",
        "    return le.fit_transform(X).reshape(-1, 1)  # Reshape to 2D\n",
        "\n",
        "preprocessor = ColumnTransformer(\n",
        "    transformers=[\n",
        "        ('tfidf', TfidfVectorizer(max_features=5000), 'content'),\n",
        "        ('label_encoder', FunctionTransformer(label_encode, validate=False), ['category']),\n",
        "    ],\n",
        "    remainder='drop',  # Drop other columns\n",
        "    verbose_feature_names_out=False\n",
        "\n",
        ")\n",
        "\n",
        "X = balanced_df[['content', 'category']]\n",
        "y = balanced_df['label'].values.ravel()\n",
        "\n",
        "######################### Criando os dados de Treinamento e Teste ##############\n",
        "\n",
        "X_train, X_test, y_train, y_test = train_test_split(X, y, test_size=0.2, random_state=42)\n",
        "\n",
        "\n",
        "##### Pipelines Regressão Logística e  SVM ####################################\n",
        "\n",
        "pipeline_logreg = Pipeline([\n",
        "    ('preprocessor', preprocessor),\n",
        "    ('logreg', LogisticRegression(max_iter=500)),\n",
        "])\n",
        "\n",
        "pipeline_svm = Pipeline([\n",
        "    ('preprocessor', preprocessor),\n",
        "    ('svm', SVC()),\n",
        "])\n",
        "\n",
        "########## Hipeparametros ########################################\n",
        "# Regressão Logística\n",
        "# max_features = Número de Tokens/Palavras a serem mantidas no Vetor TD-IDF om base na sua importância\n",
        "# C = Controle da Regularização : Trade Off entre Bias X Variança e Complexidade do Modelo\n",
        "# Penalty : L1 (lasso) e  L2 (ridge)\n",
        "# Solver : Algoritmo a ser usado na otimização (LIBLINEAR ou SAGA). SAGA : Grande Dataset X LIBLINEAR : Otimizador Simples\n",
        "# Kernel : linear :  Relações mais lineares X  RBF kernel: flexibilidade e relações não lineares.\n",
        "\n",
        "logreg_param_grid = {\n",
        "    'preprocessor__tfidf__max_features': [5000, 7500, 10000],\n",
        "    'logreg__C': [0.1, 1, 10],\n",
        "    'logreg__penalty': ['l1', 'l2'],\n",
        "    'logreg__solver': ['liblinear', 'saga']\n",
        "}\n",
        "\n",
        "svm_param_grid = {\n",
        "    'preprocessor__tfidf__max_features': [7500, 10000, 12500],\n",
        "    'svm__C': [0.1, 1, 10],\n",
        "    'svm__kernel': ['linear', 'rbf'],\n",
        "    'svm__gamma': ['scale', 'auto']\n",
        "}\n",
        "\n",
        "\n",
        "############################## Treinamento #####################################\n",
        "\n",
        "# Regressão Logistica\n",
        "\n",
        "logreg_training_time,logreg_best_model, logreg_grid_search= treino(\n",
        "    'Logistic Regression', pipeline_logreg, logreg_param_grid, X_train, y_train\n",
        ")\n",
        "\n",
        "# SVM\n",
        "\n",
        "svm_training_time,svm_best_model, svm_grid_search = treino(\n",
        "    'SVM', pipeline_svm, svm_param_grid, X_train, y_train\n",
        ")\n",
        "\n",
        "\n",
        "\n",
        "############### Teste #########################################################\n",
        "\n",
        "logreg_predictions = logreg_best_model.predict(X_test)\n",
        "svm_predictions = svm_best_model.predict(X_test)\n",
        "\n",
        "\n",
        "############## Resultado ######################################################\n",
        "\n",
        "# Geral\n",
        "\n",
        "avaliacao_e_plot_acuracia(y_test, logreg_predictions, svm_predictions)\n",
        "\n",
        "# Matriz Confusão\n",
        "\n",
        "plot_confusion_matrices(y_test, logreg_predictions, svm_predictions)\n",
        "\n",
        "# Acurácia X Max Features\n",
        "\n",
        "plot_acuracia_por_max_features(logreg_grid_search_results, svm_grid_search_results)\n",
        "\n",
        "\n",
        "# Impressão Melhores Hipe-Parametros\n",
        "display_best_hyperparameters(logreg_grid_search, \"Regressão Logística\")\n",
        "display_best_hyperparameters(svm_grid_search, \"SVM\")\n",
        "\n",
        "\n",
        "# Tempos de Treinamento\n",
        "\n",
        "impressao_tempo(logreg_training_time, \"Regressão Logística\")\n",
        "impressao_tempo(svm_training_time, \"SVM\")\n",
        "\n"
      ]
    },
    {
      "cell_type": "markdown",
      "metadata": {
        "id": "G3GxB_Ki25nF"
      },
      "source": [
        "Substituindo TD-IDF por BERT"
      ]
    },
    {
      "cell_type": "markdown",
      "source": [
        "Tempo de Simulação : (1) Regressão Logística =   (2) SVM ="
      ],
      "metadata": {
        "id": "kXQdBSzrbSip"
      }
    },
    {
      "cell_type": "code",
      "execution_count": 44,
      "metadata": {
        "colab": {
          "base_uri": "https://localhost:8080/",
          "height": 1000
        },
        "id": "zR5l8w4u23Hn",
        "outputId": "bd6e4353-3c3c-42d7-a863-838ec64750a2"
      },
      "outputs": [
        {
          "output_type": "stream",
          "name": "stdout",
          "text": [
            "Acurácia Logistic Regression (após otimização): 0.425\n",
            "              precision    recall  f1-score   support\n",
            "\n",
            "           0       0.46      0.57      0.51        21\n",
            "           1       0.36      0.26      0.30        19\n",
            "\n",
            "    accuracy                           0.42        40\n",
            "   macro avg       0.41      0.42      0.41        40\n",
            "weighted avg       0.41      0.42      0.41        40\n",
            "\n",
            "Acurácia SVM Accuracy (após otimização): 0.525\n",
            "              precision    recall  f1-score   support\n",
            "\n",
            "           0       0.54      0.62      0.58        21\n",
            "           1       0.50      0.42      0.46        19\n",
            "\n",
            "    accuracy                           0.53        40\n",
            "   macro avg       0.52      0.52      0.52        40\n",
            "weighted avg       0.52      0.53      0.52        40\n",
            "\n"
          ]
        },
        {
          "output_type": "display_data",
          "data": {
            "text/plain": [
              "<Figure size 1200x600 with 4 Axes>"
            ],
            "image/png": "[encoded data removed]"
          },
          "metadata": {}
        },
        {
          "output_type": "display_data",
          "data": {
            "text/plain": [
              "<IPython.core.display.HTML object>"
            ],
            "text/html": [
              "<h3>Regressão Logística - Melhores Parametros e Score </h3><table><tr><th>Hyperparameter</th><th>Value</th></tr><tr><td>logreg__C</td><td>10</td></tr><tr><td>logreg__penalty</td><td>l1</td></tr><tr><td>logreg__solver</td><td>liblinear</td></tr><tr><td><b>Best Score</b></td><td><b>0.5625</b></td></tr></table>"
            ]
          },
          "metadata": {}
        },
        {
          "output_type": "display_data",
          "data": {
            "text/plain": [
              "<IPython.core.display.HTML object>"
            ],
            "text/html": [
              "<h3>SVM - Melhores Parametros e Score </h3><table><tr><th>Hyperparameter</th><th>Value</th></tr><tr><td>svm__C</td><td>1</td></tr><tr><td>svm__gamma</td><td>scale</td></tr><tr><td>svm__kernel</td><td>linear</td></tr><tr><td><b>Best Score</b></td><td><b>0.5437</b></td></tr></table>"
            ]
          },
          "metadata": {}
        },
        {
          "output_type": "stream",
          "name": "stdout",
          "text": [
            "Tempo de Treinamento - Regressão Logística: 00:00:48\n",
            "Tempo de Treinamento - SVM: 00:00:00\n"
          ]
        }
      ],
      "source": [
        "############# Carregando token e modelo BERT treinado#########################\n",
        "\n",
        "tokenizer = BertTokenizer.from_pretrained('bert-base-uncased')\n",
        "model = TFBertModel.from_pretrained('bert-base-uncased')\n",
        "\n",
        "# ############### Preparando Dados ############################################\n",
        "\n",
        "balanced_df['content'] = balanced_df['content'].apply(preprocess_text)\n",
        "\n",
        "# Verificando se já existe BERT embeddings\n",
        "\n",
        "try:\n",
        "    with open('bert_embeddings.pkl', 'rb') as f:\n",
        "        balanced_df['embeddings'] = pickle.load(f)\n",
        "    print(\"Loaded BERT embeddings from file.\")\n",
        "except FileNotFoundError:\n",
        "    print(\"Embeddings file not found, recalculating...\")\n",
        "    balanced_df['embeddings'] = balanced_df['content'].apply(get_bert_embeddings)\n",
        "    # Gerando BERT embeddings\n",
        "    with open('bert_embeddings.pkl', 'wb') as f:\n",
        "        pickle.dump(balanced_df['embeddings'], f)\n",
        "\n",
        "\n",
        "X_embeddings = np.array(balanced_df['embeddings'].tolist())\n",
        "# Reshape X_embeddings para  2D\n",
        "X_embeddings = X_embeddings.reshape(X_embeddings.shape[0], X_embeddings.shape[2])\n",
        "\n",
        "# Label encode da coluna category\n",
        "label_encoder = LabelEncoder()\n",
        "X_category_encoded = label_encoder.fit_transform(balanced_df['category']) # Fit and transform the category column\n",
        "X_category_encoded = X_category_encoded.reshape(-1, 1) # Reshape to 2D\n",
        "\n",
        "# Merge embeddings com  encoded category\n",
        "X = np.concatenate([X_embeddings, X_category_encoded], axis=1)\n",
        "y = balanced_df['label'].values.ravel()\n",
        "\n",
        "\n",
        "\n",
        "############### Atualizando os preprocessador e os pipelines####################\n",
        "\n",
        "# pipelines\n",
        "pipeline_logreg = Pipeline([\n",
        "    ('logreg', LogisticRegression(max_iter=500)),\n",
        "])\n",
        "\n",
        "pipeline_svm = Pipeline([\n",
        "    ('svm', SVC()),\n",
        "])\n",
        "\n",
        "# Atualizandos os Grids\n",
        "\n",
        "logreg_param_grid = {\n",
        "    'logreg__C': [0.1, 1, 10],\n",
        "    'logreg__penalty': ['l1', 'l2'],\n",
        "    'logreg__solver': ['liblinear', 'saga']\n",
        "}\n",
        "\n",
        "svm_param_grid = {\n",
        "    'svm__C': [0.1, 1, 10],\n",
        "    'svm__kernel': ['linear', 'rbf'],\n",
        "    'svm__gamma': ['scale', 'auto']\n",
        "}\n",
        "\n",
        "\n",
        "######################### Criando os dados de Treinamento e Teste ##############\n",
        "\n",
        "X_train, X_test, y_train, y_test = train_test_split(X, y, test_size=0.2, random_state=42)\n",
        "\n",
        "\n",
        "############################## Treinamento #####################################\n",
        "\n",
        "# Regressão Logistica\n",
        "\n",
        "logreg_bert_training_time,logreg_bert_best_model, logreg_bert_grid_search= treino(\n",
        "    'Logistic Regression', pipeline_logreg, logreg_param_grid, X_train, y_train\n",
        ")\n",
        "\n",
        "# SVM\n",
        "\n",
        "svm_bert_training_time,svm_bert_best_model, svm_bert_grid_search = treino(\n",
        "    'SVM', pipeline_svm, svm_param_grid, X_train, y_train\n",
        ")\n",
        "\n",
        "\n",
        "############### Teste #########################################################\n",
        "\n",
        "logreg_bert_predictions = logreg_bert_best_model.predict(X_test)\n",
        "svm_bert_predictions = svm_bert_best_model.predict(X_test)\n",
        "\n",
        "\n",
        "############## Resultado ######################################################\n",
        "\n",
        "# Geral\n",
        "\n",
        "avaliacao_e_plot_acuracia(y_test, logreg_bert_predictions, svm_bert_predictions)\n",
        "\n",
        "# Matriz Confusão\n",
        "\n",
        "plot_confusion_matrices(y_test, logreg_bert_predictions, svm_bert_predictions)\n",
        "\n",
        "\n",
        "# Impressão Melhores Hipe-Parametros\n",
        "display_best_hyperparameters(logreg_bert_grid_search, \"Regressão Logística\")\n",
        "display_best_hyperparameters(svm_bert_grid_search, \"SVM\")\n",
        "\n",
        "# Tempos de Treinamento\n",
        "\n",
        "impressao_tempo(logreg_bert_training_time, \"Regressão Logística\")\n",
        "impressao_tempo(svm_bert_training_time, \"SVM\")\n",
        "\n"
      ]
    }
  ],
  "metadata": {
    "accelerator": "GPU",
    "colab": {
      "gpuType": "T4",
      "provenance": [],
      "authorship_tag": "ABX9TyOvnpdOv9y2nx9hdMCeoh4m",
      "include_colab_link": true
    },
    "kernelspec": {
      "display_name": "Python 3",
      "name": "python3"
    },
    "language_info": {
      "name": "python"
    }
  },
  "nbformat": 4,
  "nbformat_minor": 0
}